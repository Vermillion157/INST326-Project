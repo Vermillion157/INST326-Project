{
 "cells": [
  {
   "cell_type": "markdown",
   "id": "cddf5de3-a9f3-4471-bbaf-aca41a70ce89",
   "metadata": {},
   "source": [
    "### INST326 OOP Project 03"
   ]
  },
  {
   "cell_type": "markdown",
   "id": "2bb7f115-9eba-4f29-918e-b016e6a7edc8",
   "metadata": {},
   "source": [
    "Rename this notebook, replacing \"_Assignment\" with \"_YourName\"<br>\n",
    "Insert Signature Block Here"
   ]
  },
  {
   "cell_type": "code",
   "execution_count": null,
   "id": "7b85b136-68c8-47bd-bd17-501397058cc3",
   "metadata": {},
   "outputs": [],
   "source": [
    "Daanial Haris "
   ]
  },
  {
   "cell_type": "markdown",
   "id": "8ee05bdb-db2d-41c2-9f23-3af75d058612",
   "metadata": {},
   "source": [
    "### The Project\n",
    "Everyone will do the same project this time. This is a group project, so you must work in your assigned groups. Include the link to your group's GitHub repository (one link per group). Use comments in your code to document your solution. If you need to write comments to the grader, add a markdown cell immediately above your code solution and add your comments there. Be sure to read and follow all the requirements and the Notebook Instructions at the bottom of this notebook. Your grade may depend on it!"
   ]
  },
  {
   "cell_type": "markdown",
   "id": "a1c98e85-2c64-4a03-8309-d91035cca6d2",
   "metadata": {},
   "source": [
    "#### 1. A Scheduling Program\r",
    ">  My wife is responsible for scheduling caregivers for her 93 year-old mother. Currently she writes out the schedule on a monthly calendar and photocopies it for everyone. I want all of you to help me write a program to help her with scheduling. While this is a specific application, this program will be broadly useful and adaptable to any scheduling needs for small businesses, clubs, and more."
   ]
  },
  {
   "cell_type": "markdown",
   "id": "28b28d8a-dbb3-4f15-bbe0-e14504b84876",
   "metadata": {},
   "source": [
    "#### Requirements\n",
    ">  Care is required 12 hours per day, 7 days a week. There are two shifts each day: 7:00 AM - 1:00 PM, and 1:00 PM to 7:00 PM. There are a total of 8 caregivers. Some are family members and some are paid. Each caregiver has their own availability for shifts that is generally the same from month to month, but there are exceptions for work, vacations, and other responsibilities. Your program should do the following:\n",
    "> 1. Manage caregivers and their schedules. Attributes include: name, phone, email, pay rate, and hours.\n",
    "> 2. Each caregiver should have their own availability schedule where they can indicate their availability for each shift. Availability categories are 'preferred', 'available' (default), and 'unavailable'.\n",
    "> 3. Create a care schedule that covers AM and PM shifts and displays caregiver names on a calendar (see example). The schedule should accomodate caregivers' individual schedules and availability preferences. The python calendar module provides options for creating HTML calendars. Sample code for the HTML calendar is in the project folder.\n",
    "> 4. Paid caregivers are paid weekly at $20/hr. Your program should calculate weekly pay based on assigned hours. Provide a separate pay report that lists weekly (gross: hours x rate) amounts to each caregiver, along with weekly and monthly totals. The report can be a text document, or presented in GUI or HTML format."
   ]
  },
  {
   "cell_type": "markdown",
   "id": "6708f6cf-aac7-430e-947d-6f9c8dd161f6",
   "metadata": {
    "jp-MarkdownHeadingCollapsed": true
   },
   "source": [
    "#### Group Requirements\n",
    ">  1. Your submitted project should follow OOP principles like abstraction, encapsulation, inheritance, and polymorphism as appropriate. Your program should use classes. \n",
    ">  2. Select a group leader who will host the group's project repository on their GitHub.\n",
    ">  3. Create the group repository and add a main program document. See example.\n",
    ">  4. Create branches off the main program for each group member, and assign part of the program to each member.\n",
    ">  5. Each member should work on their branch.\n",
    ">  6. When each member is finished, merge the branches back into the main program. You may use 'merge' or 'pull requests', your choice.\n",
    ">  7. iterate and debug as necessary."
   ]
  },
  {
   "cell_type": "markdown",
   "id": "71b8f18e-607a-4c94-81a3-ebbc488ba8c6",
   "metadata": {},
   "source": [
    "#### Working with HTML\n",
    "> Since this is a course on python, not HTML, you are not expected to know HTML. Therefore, you may copy applicable portions of the sample code or use AI to write the HTML portions of your application. Ypu should write the main python code yourself.\n"
   ]
  },
  {
   "cell_type": "markdown",
   "id": "fc336368-4292-42af-aa60-06b27ff6b303",
   "metadata": {
    "jp-MarkdownHeadingCollapsed": true
   },
   "source": [
    "#### What you need to turn in\n",
    ">  This is a group project. There will be one submission per group. Your submission will be graded as a group.\n",
    ">  1. Include your group number and the names of all group members in the signature block at the top of this notebook.\n",
    ">  2. In the cell below, paste the link to your project repository. One link per group. The grader will review the activity and history provided by GitHub. To add a hyperlink to a Jupyter markdown cell, follow the instructions in the cell below.\n",
    ">  3. Below the GitHub Repository Link cell is a code cell. Copy and paste your final program code into this cell."
   ]
  },
  {
   "cell_type": "markdown",
   "id": "3ece03e6-a41f-484d-8417-d8c4e156b2c0",
   "metadata": {},
   "source": [
    "#### GitHub Repository Link\n",
    "> Example: [INST326_Fall2024/Projects/Project03](https://github.com/sdempwolf/INST326_Fall_2024/tree/main/Projects/Project03)\n",
    ">\n",
    "> Edit the link code below with your information, then run this cell. Test the link! It should take you to your GitHub project repository.\n",
    "> [external link text](http://url_here)"
   ]
  },
  {
   "cell_type": "code",
   "execution_count": 13,
   "id": "cb35b908-6683-4144-816c-051715925504",
   "metadata": {},
   "outputs": [
    {
     "name": "stdout",
     "output_type": "stream",
     "text": [
      "The caregiver schedule for November 2024 has been created.\n"
     ]
    }
   ],
   "source": [
    "import calendar\n",
    "from collections import defaultdict\n",
    "from calendar import HTMLCalendar\n",
    "\n",
    "class Caregiver:\n",
    "    def __init__(self, caregiver_name, caregiver_availability):\n",
    "        self.caregiver_name = caregiver_name\n",
    "        self.caregiver_availability = caregiver_availability  # A dictionary where days map to available shifts\n",
    "\n",
    "class ScheduleManager(HTMLCalendar):\n",
    "    def __init__(self, caregiver_list, year, month):\n",
    "        super().__init__()\n",
    "        self.month = month\n",
    "        self.caregiver_list = caregiver_list  # List of all caregivers\n",
    "        self.year = year\n",
    "        self.final_schedule = self.create_schedule()\n",
    "\n",
    "    def create_schedule(self):\n",
    "        \"\"\"\n",
    "        Generates the schedule for the month, assigning caregivers to shifts\n",
    "        based on their availability. No caregiver will be assigned to the same\n",
    "        shift more than once in a single day.\n",
    "        \"\"\"\n",
    "        # Mapping full day names to abbreviated day names\n",
    "        day_name_to_abbr = {\n",
    "            \"Monday\": \"Mon\", \"Tuesday\": \"Tue\", \"Wednesday\": \"Wed\",\n",
    "            \"Thursday\": \"Thu\", \"Friday\": \"Fri\", \"Saturday\": \"Sat\", \"Sunday\": \"Sun\"\n",
    "        }\n",
    "\n",
    "        # Use abbreviated day names to match the calendar output format\n",
    "        weekly_schedule = {day: {\"AM\": None, \"PM\": None} for day in calendar.day_abbr}\n",
    "\n",
    "        # Assign caregivers to shifts based on their availability\n",
    "        for caregiver in self.caregiver_list:\n",
    "            for day, shifts in caregiver.caregiver_availability.items():\n",
    "                # Use the dictionary to convert full day names to abbreviated day names\n",
    "                day_name = day_name_to_abbr.get(day)  # Convert to abbreviated day name\n",
    "                if day_name:\n",
    "                    for shift in shifts:\n",
    "                        # If the shift is not already assigned, assign the caregiver\n",
    "                        if weekly_schedule[day_name][shift] is None:\n",
    "                            weekly_schedule[day_name][shift] = caregiver.caregiver_name\n",
    "\n",
    "        return weekly_schedule\n",
    "\n",
    "     def create_week(self, week):\n",
    "        \"\"\"Formats a week into the HTML table format.\"\"\"\n",
    "        return '<tr>' + ''.join(self.create_day(day, weekday) for day, weekday in week) + '</tr>'\n",
    "\n",
    "    def create_day(self, day_number, weekday):\n",
    "        \"\"\"Formats a day in the HTML calendar with caregiver assignments.\"\"\"\n",
    "        if day_number == 0:\n",
    "            return '<td class=\"no_day\">&nbsp;</td>'  # Empty cell for non-month days\n",
    "        else:\n",
    "            day_name = calendar.day_abbr[weekday]  # Use abbreviated day names\n",
    "\n",
    "            am_caregiver = self.final_schedule.get(day_name, {}).get(\"AM\", \"None available\")\n",
    "            pm_caregiver = self.final_schedule.get(day_name, {}).get(\"PM\", \"None available\")\n",
    "\n",
    "            # Display caregivers assigned to AM and PM shifts\n",
    "            return f'<td><strong>{day_number}</strong><br>AM: {am_caregiver}<br>PM: {pm_caregiver}</td>'\n",
    "\n",
    "    def generate_month_schedule(self):\n",
    "        \"\"\"Generates the schedule in an HTML format.\"\"\"\n",
    "        html_content = []\n",
    "        html_content.append('<table border=\"1\" cellpadding=\"5\" cellspacing=\"0\" class=\"monthly_schedule\">')\n",
    "        html_content.append(f'<tr><th colspan=\"7\">{calendar.month_name[self.month]} {self.year}</th></tr>')\n",
    "        html_content.append('<tr>' + ''.join(f'<th>{day}</th>' for day in calendar.day_abbr) + '</tr>')\n",
    "\n",
    "        # Loop through the weeks of the month and format each\n",
    "        for week in self.monthdays2calendar(self.year, self.month):\n",
    "            html_content.append(self.create_week(week))  # Correct method name\n",
    "\n",
    "        html_content.append('</table>')\n",
    "        return ''.join(html_content)\n",
    "\n",
    "# Testing Code:\n",
    "if __name__ == \"__main__\":\n",
    "    # Example users with availability\n",
    "    caregiver_list = [\n",
    "        Caregiver(\"Daanial\", {\n",
    "            \"Monday\": [\"PM\"],\n",
    "            \"Thursday\": [\"AM\"],\n",
    "            \"Saturday\": [\"AM\", \"PM\"]\n",
    "        }),\n",
    "        Caregiver(\"Aliya\", {\n",
    "            \"Tuesday\": [\"AM\"],\n",
    "            \"Wednesday\": [\"PM\"],\n",
    "            \"Thursday\": [\"AM\", \"PM\"]\n",
    "        }),\n",
    "        Caregiver(\"Katie\", {\n",
    "            \"Monday\": [\"AM\", \"PM\"],\n",
    "            \"Wednesday\": [\"PM\"],\n",
    "            \"Thursday\": [\"AM\", \"PM\"]\n",
    "        })\n",
    "    ]\n",
    "\n",
    "    # Create an instance of the ScheduleManager with the caregivers, year, and month\n",
    "    year = 2024\n",
    "    month = 11\n",
    "    schedule_manager = ScheduleManager(caregiver_list, year, month)\n",
    "\n",
    "    # Generate the HTML version\n",
    "    html_schedule = schedule_manager.generate_month_schedule()\n",
    "\n",
    "    # Save the HTML content to a file for viewing\n",
    "    with open(f\"caregiver_schedule_{year}_{month}.html\", \"w\") as output_file:\n",
    "        output_file.write(html_schedule)\n",
    "\n",
    "    print(f\"The caregiver schedule for {calendar.month_name[month]} {year} has been created.\")\n",
    "\n"
   ]
  },
  {
   "cell_type": "code",
   "execution_count": null,
   "id": "17704bbc-49a4-4d72-b5b6-8270528c0236",
   "metadata": {},
   "outputs": [],
   "source": [
    "[INST326/Projects/Project03](https://github.com/Vermillion157/INST326-Project.git)"
   ]
  },
  {
   "cell_type": "markdown",
   "id": "ec8ddd19-87cd-475d-a07f-7dc8983dc636",
   "metadata": {},
   "source": [
    "### Notebook Instructions\n",
    "> Before turning in your notebook:\n",
    "> 1. Make sure you have renamed the notebook file as instructed\n",
    "> 2. Make sure you have included your signature block and that it is correct according to the instructions\n",
    "> 3. comment your code as necessary\n",
    "> 4. run all code cells and double check that they run correctly. If you can't get your code to run correctly and you want partial credit, add a note for the grader in a new markdown cell directly above your code solution.<br><br>\n",
    "Turn in your notebook by uploading it to ELMS<br>\n",
    "IF the exercises involve saved data files, put your notebook and the data file(s) in a zip folder and upload the zip folder to ELMS"
   ]
  },
  {
   "cell_type": "code",
   "execution_count": null,
   "id": "c2f96be2-9bc0-46ea-98fb-51d8c07c7de8",
   "metadata": {},
   "outputs": [],
   "source": []
  }
 ],
 "metadata": {
  "kernelspec": {
   "display_name": "Python 3 (ipykernel)",
   "language": "python",
   "name": "python3"
  },
  "language_info": {
   "codemirror_mode": {
    "name": "ipython",
    "version": 3
   },
   "file_extension": ".py",
   "mimetype": "text/x-python",
   "name": "python",
   "nbconvert_exporter": "python",
   "pygments_lexer": "ipython3",
   "version": "3.12.7"
  }
 },
 "nbformat": 4,
 "nbformat_minor": 5
}
